{
  "nbformat": 4,
  "nbformat_minor": 0,
  "metadata": {
    "colab": {
      "name": "textSummarizationMarathi.ipynb",
      "provenance": [],
      "collapsed_sections": []
    },
    "kernelspec": {
      "name": "python3",
      "display_name": "Python 3"
    },
    "language_info": {
      "name": "python"
    }
  },
  "cells": [
    {
      "cell_type": "code",
      "metadata": {
        "id": "1GK4xBIRkCOr"
      },
      "source": [
        "from nltk.corpus import stopwords\n",
        "from nltk.stem import PorterStemmer\n",
        "from nltk.tokenize import word_tokenize, sent_tokenize"
      ],
      "execution_count": null,
      "outputs": []
    },
    {
      "cell_type": "code",
      "metadata": {
        "colab": {
          "base_uri": "https://localhost:8080/"
        },
        "id": "NynYw5PVk2Nx",
        "outputId": "23f14e3e-79c8-4f4f-a3dd-a24360d1f6b8"
      },
      "source": [
        "import nltk\n",
        "nltk.download('punkt')"
      ],
      "execution_count": null,
      "outputs": [
        {
          "output_type": "stream",
          "text": [
            "[nltk_data] Downloading package punkt to /root/nltk_data...\n",
            "[nltk_data]   Unzipping tokenizers/punkt.zip.\n"
          ],
          "name": "stdout"
        },
        {
          "output_type": "execute_result",
          "data": {
            "text/plain": [
              "True"
            ]
          },
          "metadata": {
            "tags": []
          },
          "execution_count": 7
        }
      ]
    },
    {
      "cell_type": "code",
      "metadata": {
        "id": "nZM0H99ykcut"
      },
      "source": [
        "#  count the frequency of all the words in the text\n",
        "def _create_frequency_table(text_string) -> dict:\n",
        "\n",
        "    stopWords = set(\"/Users/prajwalite/Downloads/final_stopwords.txt\")\n",
        "    words = word_tokenize(text_string)\n",
        "    ps = PorterStemmer()\n",
        "\n",
        "    freqTable = dict()\n",
        "    for word in words:\n",
        "        word = ps.stem(word)\n",
        "        if word in stopWords:\n",
        "            continue\n",
        "        if word in freqTable:\n",
        "            freqTable[word] += 1\n",
        "        else:\n",
        "            freqTable[word] = 1\n",
        "\n",
        "    return freqTable"
      ],
      "execution_count": null,
      "outputs": []
    },
    {
      "cell_type": "code",
      "metadata": {
        "id": "-qzOHojQki4h"
      },
      "source": [
        "# count the score for each sentences in the text\n",
        "# summation of all frquency of all the words in the text.\n",
        "def _score_sentences(sentences, freqTable) -> dict:\n",
        "    sentenceValue = dict()\n",
        "\n",
        "    for sentence in sentences:\n",
        "        word_count_in_sentence = (len(word_tokenize(sentence)))\n",
        "        for wordValue in freqTable:\n",
        "            if wordValue in sentence.lower():\n",
        "                if sentence[:10] in sentenceValue:\n",
        "                    sentenceValue[sentence[:10]] += freqTable[wordValue]\n",
        "                else:\n",
        "                    sentenceValue[sentence[:10]] = freqTable[wordValue]\n",
        "\n",
        "        sentenceValue[sentence[:10]] = sentenceValue[sentence[:10]] // word_count_in_sentence\n",
        "\n",
        "    return sentenceValue"
      ],
      "execution_count": null,
      "outputs": []
    },
    {
      "cell_type": "code",
      "metadata": {
        "id": "fhn9zf35kouj"
      },
      "source": [
        "def _find_average_score(sentenceValue) -> int:\n",
        "    sumValues = 0\n",
        "    for entry in sentenceValue:\n",
        "        sumValues += sentenceValue[entry]\n",
        "\n",
        "    # Average value of a sentence from original text\n",
        "    average = int(sumValues / len(sentenceValue))\n",
        "\n",
        "    return average"
      ],
      "execution_count": null,
      "outputs": []
    },
    {
      "cell_type": "code",
      "metadata": {
        "id": "s-EuDwNgkrud"
      },
      "source": [
        "def _generate_summary(sentences, sentenceValue, threshold):\n",
        "    sentence_count = 0\n",
        "    summary = ''\n",
        "\n",
        "    for sentence in sentences:\n",
        "        if sentence[:10] in sentenceValue and sentenceValue[sentence[:10]] > (threshold):\n",
        "            summary += \" \" + sentence\n",
        "            sentence_count += 1\n",
        "\n",
        "    return summary"
      ],
      "execution_count": null,
      "outputs": []
    },
    {
      "cell_type": "code",
      "metadata": {
        "colab": {
          "base_uri": "https://localhost:8080/"
        },
        "id": "nQ7MauYEkwKf",
        "outputId": "c05e1dbd-a308-4ca0-fd2d-1a8dc7395573"
      },
      "source": [
        "text = 'परंतु भारतीय जन-मानसात या दोघांना शिवाजी महाराज यांचे मार्गदर्शक म्हणून मानाचे स्थान आहे.लोककथा आणि इतिहास ह्यांमधे कालौघात पुष्कळदा सरमिसळ होते, आणि त्यामुळे इतिहासाचा नेमका मागोवा घेणे कठीण होते. शिवाजीमहाराजांच्या बाबतीत ती सरमिसळ खूपच आहे; परिणामी शिवाजीराजांना कोणाचे मार्गदर्शन किती मिळाले हे नक्की ठरवणे निदान आज तरी कठीण आहे. युद्धाभ्यास आणि रणनीती तसेच राजकारभार ह्यांसबंधी प्राथमिक मार्गदर्शन त्यांना शहाजीराजांकडून, तर परकीय सत्तेविरूद्ध लढा करण्याकरता आवश्यक असलेल्या शिस्तीचे शिक्षण जिजाबाईंकडून मिळाले असे मात्र उपलब्ध ऐतिहासिक माहितीरून निश्चितपणे सांगता येते. शहाजी राजांनी नेमलेले पुणे जहागिरीचे कारभारी दादोजी कोंडदेव यांनी बाल शिवाजीच्या शिक्षणाची जबाबदारी घेऊन त्यांस युद्धकला व राजनीती-शास्त्राचे शिक्षण देवविले. पालक व स्वराज्याच्या प्राथमिक अवस्थेतील मार्गदर्शक या नात्याने दादोजी कोंडदेव यांची भूमिका महत्त्वाची होती. संत तुकाराममहाराज ह्यांचे महत्त्वाचे आध्यात्मिक मार्गदर्शनही शिवाजीराजांना लाभले होते. शिवाजी महाराजांनी अनेक साधू-संतांचे उपदेश घेतले असे म्हटले जात असले तरी समर्थ रामदास व शिवाजी महाराज यांचे गुरु-शिष्य नाते वेगळेच मानावे लागेल.] संत तुकारामांनीच शिवाजीराजांना कर्मयोगाचे पुरस्कर्ते समर्थ रामदास यांचेकडे पाठवले असेही मानले जाते.] काही इतिहास संशोधक व संघटना, संकुचित व जातीयवादी दृष्टीने दादोजी कोंडदेव व समर्थ रामदास यांचे श्रेय नाकारण्याचा प्रयत्न करीत असतात. परंतु भारतीय जन-मानसात या दोघांना शिवाजी महाराज यांचे मार्गदर्शक म्हणून मानाचे स्थान आहे.'\n",
        "\n",
        "# 1 Create the word frequency table\n",
        "freq_table = _create_frequency_table(text)\n",
        "\n",
        "'''\n",
        "We already have a sentence tokenizer, so we just need \n",
        "to run the sent_tokenize() method to create the array of sentences.\n",
        "'''\n",
        "\n",
        "# 2 Tokenize the sentences\n",
        "sentences = sent_tokenize(text)\n",
        "\n",
        "# 3 Important Algorithm: score the sentences\n",
        "sentence_scores = _score_sentences(sentences, freq_table)\n",
        "\n",
        "# 4 Find the threshold\n",
        "threshold = _find_average_score(sentence_scores)\n",
        "\n",
        "# 5 Important Algorithm: Generate the summary\n",
        "summary = _generate_summary(sentences, sentence_scores, 1.5 * threshold)\n",
        "\n",
        "\n",
        "print('Length of summary:' , len(summary) , 'letters')\n",
        "print('Length of text   :' , len(text) , 'letters')\n",
        "print(\"summay:\", summary)"
      ],
      "execution_count": null,
      "outputs": [
        {
          "output_type": "stream",
          "text": [
            "Length of summary: 757 letters\n",
            "Length of text   : 1396 letters\n",
            "summay:  परंतु भारतीय जन-मानसात या दोघांना शिवाजी महाराज यांचे मार्गदर्शक म्हणून मानाचे स्थान आहे.लोककथा आणि इतिहास ह्यांमधे कालौघात पुष्कळदा सरमिसळ होते, आणि त्यामुळे इतिहासाचा नेमका मागोवा घेणे कठीण होते. शिवाजीमहाराजांच्या बाबतीत ती सरमिसळ खूपच आहे; परिणामी शिवाजीराजांना कोणाचे मार्गदर्शन किती मिळाले हे नक्की ठरवणे निदान आज तरी कठीण आहे. संत तुकाराममहाराज ह्यांचे महत्त्वाचे आध्यात्मिक मार्गदर्शनही शिवाजीराजांना लाभले होते. शिवाजी महाराजांनी अनेक साधू-संतांचे उपदेश घेतले असे म्हटले जात असले तरी समर्थ रामदास व शिवाजी महाराज यांचे गुरु-शिष्य नाते वेगळेच मानावे लागेल.] संत तुकारामांनीच शिवाजीराजांना कर्मयोगाचे पुरस्कर्ते समर्थ रामदास यांचेकडे पाठवले असेही मानले जाते.] परंतु भारतीय जन-मानसात या दोघांना शिवाजी महाराज यांचे मार्गदर्शक म्हणून मानाचे स्थान आहे.\n"
          ],
          "name": "stdout"
        }
      ]
    }
  ]
}